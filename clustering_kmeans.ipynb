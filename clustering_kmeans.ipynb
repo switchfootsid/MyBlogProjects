{
 "cells": [
  {
   "cell_type": "markdown",
   "metadata": {},
   "source": [
    "## K-Means with Text Data\n",
    "\n",
    "Sometime in January earlier this year, I wrote my first clustering application. For the given problem at hand, I was driven to find out 'similar looking' days in terms of solar irradiation. Meaning, I had to group days that had similar looking solar radiation profiles, temporal & amplitude both. I quickly acquired the dataset from a colleague, spent a few hours cleaning/preparing a time-series of 24 hours and finally faced the big question: How do I group these days? That was my introduction to clustering. In this post, I will use one of the most popular clustering algorithms K-Means! And I will work on text data, grouping similar Wikipedia articles.\n",
    "\n",
    "### Two aspects of clustering algorithms: Representation & Similarity\n",
    "\n",
    "#### Representation:  What does text data look like?\n",
    "The algorithm doesn't understand text data.\n",
    "\n",
    "#### Similarity: What do you mean by 'similar articles'? How are two objects similar or dissimilar?\n",
    "Distance metric for comparing how 'similar' or 'near' two articles are.\n"
   ]
  },
  {
   "cell_type": "code",
   "execution_count": 138,
   "metadata": {
    "collapsed": false
   },
   "outputs": [],
   "source": [
    "import sframe                                                  # see below for install instruction\n",
    "import matplotlib.pyplot as plt                                # plotting\n",
    "import numpy as np                                             # dense matrices\n",
    "from scipy.sparse import csr_matrix                            # sparse matrices\n",
    "from sklearn.preprocessing import normalize                    # normalizing vectors\n",
    "from sklearn.metrics import pairwise_distances                 # pairwise distances\n",
    "import sys      \n",
    "import os\n",
    "%matplotlib inline"
   ]
  },
  {
   "cell_type": "markdown",
   "metadata": {},
   "source": [
    "## Preprocessing text data: Extract TFIDF features\n",
    "\n",
    "Clustering algorithms can be used on any kind of data (text, image, numerical etc) in order to identify groups with similar properties with respect to a metric. For any clustering algorithm two aspects need to be mentioned explicitly, **representation** and **similarity metric**. \n",
    "\n",
    "### Representation\n",
    "\n",
    "Text files, a sequence of symbols cannot be fed directly to the algorithms themselves as most of them expect numerical feature vectors with a fixed size rather than the raw text documents with variable length. So in order to work with text data, we must first convert the documents into numerical features. I will compute TF-IDF features vectors for each article."
   ]
  },
  {
   "cell_type": "code",
   "execution_count": 139,
   "metadata": {
    "collapsed": false
   },
   "outputs": [],
   "source": [
    "from sklearn.feature_extraction.text import TfidfVectorizer\n",
    "import zipfile\n",
    "import pandas as pd\n",
    "\n",
    "zf = zipfile.ZipFile('./people_wiki.csv.zip')\n",
    "df = pd.read_csv(zf.open('people_wiki.csv'))\n",
    "vectorizer = TfidfVectorizer(min_df=1)\n",
    "tf_idf = vectorizer.fit_transform(df['text'])\n"
   ]
  },
  {
   "cell_type": "code",
   "execution_count": 140,
   "metadata": {
    "collapsed": false
   },
   "outputs": [
    {
     "data": {
      "text/plain": [
       "<59071x547979 sparse matrix of type '<type 'numpy.float64'>'\n",
       "\twith 10379283 stored elements in Compressed Sparse Row format>"
      ]
     },
     "execution_count": 140,
     "metadata": {},
     "output_type": "execute_result"
    }
   ],
   "source": [
    "def load_sparse_csr(filename):\n",
    "    loader = np.load(filename)\n",
    "    data = loader['data']\n",
    "    indices = loader['indices']\n",
    "    indptr = loader['indptr']\n",
    "    shape = loader['shape']\n",
    "\n",
    "    return csr_matrix( (data, indices, indptr), shape)\n",
    "\n",
    "tf_id = load_sparse_csr('./people_wiki_tf_idf.npz')\n",
    "tf_id"
   ]
  },
  {
   "cell_type": "markdown",
   "metadata": {},
   "source": [
    "## Normalization\n",
    "\n",
    "Since we want to form natural cluster of documents with 'similar content' it doesn't make sense for us to use Euclidean distance since it wrongly penalizes longer documents. Therefore, normalization is essential.\n",
    "\n",
    "### Similarity Metric\n",
    "A normalized euclidean distance"
   ]
  },
  {
   "cell_type": "code",
   "execution_count": 141,
   "metadata": {
    "collapsed": true
   },
   "outputs": [],
   "source": [
    "tf_idf = normalize(tf_idf)"
   ]
  },
  {
   "cell_type": "markdown",
   "metadata": {},
   "source": [
    "## K-means Algorithm\n",
    "\n",
    "After picking K random data points are cluster centroids, the algorithm iterates between two steps.\n",
    "1. Assign cluster to closest centroid.\n",
    "2. Recompute the centroid (mean) of all the data points."
   ]
  },
  {
   "cell_type": "code",
   "execution_count": 152,
   "metadata": {
    "collapsed": true
   },
   "outputs": [],
   "source": [
    "from sklearn.metrics import pairwise_distances\n",
    "\n",
    "def get_centroids(data, k, seed=None):    \n",
    "    print seed\n",
    "    if seed is not None:\n",
    "        np.random.seed(seed)\n",
    "    n = data.shape[0]\n",
    "    rand_indices = np.random.randint(0, n, k)\n",
    "    centroids = data[rand_indices,:].toarray()\n",
    "    \n",
    "    return centroids"
   ]
  },
  {
   "cell_type": "code",
   "execution_count": 143,
   "metadata": {
    "collapsed": false
   },
   "outputs": [
    {
     "name": "stdout",
     "output_type": "stream",
     "text": [
      "Pass\n",
      "[0 1 2 ..., 0 0 0]\n",
      "Pass\n"
     ]
    }
   ],
   "source": [
    "centroid = tf_idf[0:3,:]\n",
    "distances = pairwise_distances(tf_idf, centroid).tolist()\n",
    "\n",
    "dist = pairwise_distances(tf_idf[430,:], centroid[1,:])\n",
    "'''Test cell'''\n",
    "if np.allclose(dist, pairwise_distances(tf_idf[430,:], tf_idf[1,:])):\n",
    "    print('Pass')\n",
    "else:\n",
    "    print('Check your code again')\n",
    "\n",
    "closest_cluster = np.argmin(pairwise_distances(tf_idf, centroid), axis=1)\n",
    "print closest_cluster\n",
    "'''Test cell'''\n",
    "reference = [list(row).index(min(row)) for row in distances]\n",
    "if np.allclose(closest_cluster, reference):\n",
    "    print('Pass')\n",
    "else:\n",
    "    print('Check your code again')"
   ]
  },
  {
   "cell_type": "code",
   "execution_count": 144,
   "metadata": {
    "collapsed": false
   },
   "outputs": [],
   "source": [
    "def assign_clusters(data, centroids):\n",
    "    \n",
    "    distance_from_centroids = pairwise_distances(data, centroids)\n",
    "    cluster_assignment = np.argmin(distance_from_centroids, axis=1)\n",
    "    return cluster_assignment\n"
   ]
  },
  {
   "cell_type": "code",
   "execution_count": 145,
   "metadata": {
    "collapsed": false
   },
   "outputs": [
    {
     "name": "stdout",
     "output_type": "stream",
     "text": [
      "data:\n",
      "(10, 548429)\n",
      "\n",
      "centroids:\n",
      "(4, 548429)\n",
      "\n",
      "distances:\n",
      "[[ 0.          1.33283521  1.38491571  1.37761454]\n",
      " [ 1.36906121  1.37632795  1.38740457  1.3880518 ]\n",
      " [ 1.34181353  1.32512254  1.36871379  1.37116954]\n",
      " [ 1.32961915  1.36347792  1.38574025  1.38528546]\n",
      " [ 1.33754956  1.35581639  1.38247922  1.38012103]\n",
      " [ 1.34748457  1.35499333  1.35963943  1.36688704]\n",
      " [ 1.33282775  1.35398     1.38162293  1.37755153]\n",
      " [ 1.36916744  1.37947429  1.39028248  1.39030048]\n",
      " [ 1.35128553  1.37144896  1.38339973  1.3856312 ]\n",
      " [ 1.36876859  1.3804238   1.39584069  1.39464072]]\n",
      "shape: (10, 4)\n",
      "[0 0 1 0 0 0 0 0 0 0]\n"
     ]
    }
   ],
   "source": [
    "print 'data:\\n', tf_idf[0:100:10].shape\n",
    "print '\\ncentroids:\\n', tf_idf[0:8:2].shape\n",
    "print '\\ndistances:\\n',pairwise_distances(tf_idf[0:100:10], tf_idf[0:8:2])\n",
    "print 'shape:', pairwise_distances(tf_idf[0:100:10], tf_idf[0:8:2]).shape\n",
    "print np.argmin(pairwise_distances(tf_idf[0:100:10], tf_idf[0:8:2]), axis=1)"
   ]
  },
  {
   "cell_type": "markdown",
   "metadata": {},
   "source": [
    "### Recompute Cluster Assignments\n",
    "\n",
    "Filtering using boolean masks. "
   ]
  },
  {
   "cell_type": "code",
   "execution_count": 146,
   "metadata": {
    "collapsed": false
   },
   "outputs": [],
   "source": [
    "def revise_centroids(data, k, assignment):\n",
    "    new_centroids = []\n",
    "    for k in range(k):\n",
    "        member_of_cluster = data[assignment==k,:]\n",
    "        centroid = member_of_cluster.mean(axis=0)\n",
    "        \n",
    "        centroid = centroid.A1 #WTF?\n",
    "        \n",
    "        new_centroids.append(centroid)\n",
    "    \n",
    "    new_centroids = np.array(new_centroids)\n",
    "    return new_centroids"
   ]
  },
  {
   "cell_type": "markdown",
   "metadata": {},
   "source": [
    "### Assess Convergence: Hetereogeneity"
   ]
  },
  {
   "cell_type": "code",
   "execution_count": 149,
   "metadata": {
    "collapsed": true
   },
   "outputs": [],
   "source": [
    "def compute_heterogeneity(data, k, centroids, cluster_assignment):\n",
    "    \n",
    "    heterogeneity = 0.0\n",
    "    for i in xrange(k):\n",
    "        \n",
    "        # Select all data points that belong to cluster i. Fill in the blank (RHS only)\n",
    "        member_data_points = data[cluster_assignment==i, :]\n",
    "        \n",
    "        if member_data_points.shape[0] > 0: # check if i-th cluster is non-empty\n",
    "            # Compute distances from centroid to data points (RHS only)\n",
    "            distances = pairwise_distances(member_data_points, [centroids[i]], metric='euclidean')\n",
    "            squared_distances = distances**2\n",
    "            heterogeneity += np.sum(squared_distances)\n",
    "        \n",
    "    return heterogeneity"
   ]
  },
  {
   "cell_type": "code",
   "execution_count": 129,
   "metadata": {
    "collapsed": true
   },
   "outputs": [],
   "source": [
    "def kmeans(data, k, initial_centroids, maxiter, record_heterogeneity=None, verbose=False):\n",
    "    \n",
    "    '''Input: data and initial set of centroids.\n",
    "       maxiter: maximum number of iterations to run.\n",
    "       \n",
    "       record_heterogeneity: (optional) a list, to store the history of heterogeneity as function of iterations\n",
    "                             if None, do not store the history.\n",
    "       \n",
    "       verbose: if True, print how many data points changed their cluster labels in each iteration'''\n",
    "    \n",
    "    centroids = initial_centroids[:]\n",
    "    prev_cluster_assignment = None\n",
    "    \n",
    "    for itr in xrange(maxiter):        \n",
    "        if verbose:\n",
    "            print(itr)\n",
    "        \n",
    "        # 1. Make cluster assignments using nearest centroids\n",
    "        cluster_assignment = assign_clusters(data, centroids)\n",
    "            \n",
    "        # 2. Compute a new centroid for each of the k clusters, averaging all data points assigned to that cluster.\n",
    "       \n",
    "        centroids = revise_centroids(data, k, cluster_assignment)\n",
    "            \n",
    "        # Check for convergence: if none of the assignments changed, stop\n",
    "        if prev_cluster_assignment is not None and (prev_cluster_assignment==cluster_assignment).all():\n",
    "            print 'converged in', itr+1\n",
    "            break\n",
    "        \n",
    "        # Print number of new assignments \n",
    "        if prev_cluster_assignment is not None:\n",
    "            num_changed = np.sum(prev_cluster_assignment!=cluster_assignment)\n",
    "            if verbose:\n",
    "                print('{0:5d} elements changed their cluster assignment.'.format(num_changed))   \n",
    "         \n",
    "        # Record heterogeneity convergence metric\n",
    "        if record_heterogeneity is not None:\n",
    "            # YOUR CODE HERE\n",
    "            score = compute_heterogeneity(data, k, centroids, cluster_assignment)\n",
    "            record_heterogeneity.append(score)\n",
    "        \n",
    "        prev_cluster_assignment = cluster_assignment[:]\n",
    "        \n",
    "    return centroids, cluster_assignment, record_heterogeneity"
   ]
  },
  {
   "cell_type": "code",
   "execution_count": 130,
   "metadata": {
    "collapsed": true
   },
   "outputs": [],
   "source": [
    "def plot_heterogeneity(heterogeneity, k):\n",
    "    plt.figure(figsize=(7,4))\n",
    "    plt.plot(heterogeneity, linewidth=4)\n",
    "    plt.xlabel('# Iterations')\n",
    "    plt.ylabel('Heterogeneity')\n",
    "    plt.title('Heterogeneity of clustering over time, K={0:d}'.format(k))\n",
    "    plt.rcParams.update({'font.size': 16})\n",
    "    plt.tight_layout()"
   ]
  },
  {
   "cell_type": "code",
   "execution_count": 135,
   "metadata": {
    "collapsed": false
   },
   "outputs": [
    {
     "name": "stdout",
     "output_type": "stream",
     "text": [
      "0\n",
      "1\n",
      " 3232 elements changed their cluster assignment.\n",
      "2\n",
      " 4017 elements changed their cluster assignment.\n",
      "3\n",
      " 4346 elements changed their cluster assignment.\n",
      "4\n",
      " 3062 elements changed their cluster assignment.\n",
      "5\n",
      " 2206 elements changed their cluster assignment.\n",
      "6\n",
      " 1546 elements changed their cluster assignment.\n",
      "7\n",
      " 1104 elements changed their cluster assignment.\n",
      "8\n",
      "  792 elements changed their cluster assignment.\n",
      "9\n",
      "  621 elements changed their cluster assignment.\n",
      "10\n",
      "  512 elements changed their cluster assignment.\n",
      "11\n",
      "  414 elements changed their cluster assignment.\n",
      "12\n",
      "  372 elements changed their cluster assignment.\n",
      "13\n",
      "  280 elements changed their cluster assignment.\n",
      "14\n",
      "  215 elements changed their cluster assignment.\n",
      "15\n",
      "  193 elements changed their cluster assignment.\n",
      "16\n",
      "  161 elements changed their cluster assignment.\n",
      "17\n",
      "  110 elements changed their cluster assignment.\n",
      "18\n",
      "   78 elements changed their cluster assignment.\n",
      "19\n",
      "   55 elements changed their cluster assignment.\n",
      "20\n",
      "   46 elements changed their cluster assignment.\n",
      "21\n",
      "   42 elements changed their cluster assignment.\n",
      "22\n",
      "   26 elements changed their cluster assignment.\n",
      "23\n",
      "   24 elements changed their cluster assignment.\n",
      "24\n",
      "   15 elements changed their cluster assignment.\n",
      "25\n",
      "   10 elements changed their cluster assignment.\n",
      "26\n",
      "    9 elements changed their cluster assignment.\n",
      "27\n",
      "    7 elements changed their cluster assignment.\n",
      "28\n",
      "    9 elements changed their cluster assignment.\n",
      "29\n",
      "    3 elements changed their cluster assignment.\n",
      "30\n",
      "    2 elements changed their cluster assignment.\n",
      "31\n",
      "    3 elements changed their cluster assignment.\n",
      "32\n",
      "    2 elements changed their cluster assignment.\n",
      "33\n",
      "    2 elements changed their cluster assignment.\n",
      "34\n",
      "    1 elements changed their cluster assignment.\n",
      "35\n",
      "    1 elements changed their cluster assignment.\n",
      "36\n",
      "converged in 37\n"
     ]
    },
    {
     "data": {
      "image/png": "[encoded data removed]",
      "text/plain": [
       "<matplotlib.figure.Figure at 0x123799d90>"
      ]
     },
     "metadata": {},
     "output_type": "display_data"
    }
   ],
   "source": [
    "k = 3\n",
    "heterogeneity = []\n",
    "initial_centroids = get_centroids(tf_idf, k, seed=0)\n",
    "centroids, cluster_assign, heterogeneity = kmeans(tf_idf, k, initial_centroids, maxiter=400,\n",
    "                                       record_heterogeneity=heterogeneity, verbose=True)\n",
    "plot_heterogeneity(heterogeneity, k)"
   ]
  },
  {
   "cell_type": "markdown",
   "metadata": {},
   "source": [
    "#### Count number of elements in each cluster: np.bincounts or df['cluster'].value_counts()"
   ]
  },
  {
   "cell_type": "code",
   "execution_count": 147,
   "metadata": {
    "collapsed": false
   },
   "outputs": [
    {
     "name": "stdout",
     "output_type": "stream",
     "text": [
      "[35432 23239   400]\n",
      "[0 0 0 ..., 0 0 1]\n"
     ]
    }
   ],
   "source": [
    "print np.bincount(cluster_assign)\n",
    "print cluster_assign"
   ]
  },
  {
   "cell_type": "markdown",
   "metadata": {},
   "source": [
    "### Beware of local minima - Seeding KMeans"
   ]
  },
  {
   "cell_type": "code",
   "execution_count": null,
   "metadata": {
    "collapsed": true
   },
   "outputs": [],
   "source": [
    "k = 10\n",
    "heterogeneity = {}\n",
    "import time\n",
    "start = time.time()\n",
    "for seed in [0, 20000, 40000, 60000, 80000, 100000, 120000]:\n",
    "    \n",
    "    initial_centroids = get_centroids(tf_idf, k, seed)\n",
    "    centroids, cluster_assignment = kmeans(tf_idf, k, initial_centroids, maxiter=400, record_heterogeneity=None, verbose=False)\n",
    "    \n",
    "    # To save time, compute heterogeneity only once in the end\n",
    "    heterogeneity[seed] = compute_heterogeneity(tf_idf, k, centroids, cluster_assignment)\n",
    "    print('seed={0:06d}, heterogeneity={1:.5f}'.format(seed, heterogeneity[seed]))\n",
    "    sys.stdout.flush()\n",
    "    \n",
    "end = time.time()\n",
    "print(end - start)"
   ]
  }
 ],
 "metadata": {
  "kernelspec": {
   "display_name": "Python 2",
   "language": "python",
   "name": "python2"
  },
  "language_info": {
   "codemirror_mode": {
    "name": "ipython",
    "version": 2
   },
   "file_extension": ".py",
   "mimetype": "text/x-python",
   "name": "python",
   "nbconvert_exporter": "python",
   "pygments_lexer": "ipython2",
   "version": "2.7.6"
  }
 },
 "nbformat": 4,
 "nbformat_minor": 0
}
