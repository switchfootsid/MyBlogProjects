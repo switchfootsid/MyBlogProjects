{
 "cells": [
  {
   "cell_type": "markdown",
   "metadata": {},
   "source": [
    "# Spot-checking Algorithms\n",
    "\n",
    "After data-preprocessing and Exploratory Data Analysis, you want to quickly gain some intuition about what kind of machine learning algorithms work best. Every ML algorithm has certain assumptions about the dataset, with sufficient experience with using such algorithms one can often narrow down the design space to a few. \n",
    "\n",
    "For others, worry not, there is spot-checking! In short, on your pre-processed datasets it is often good to quickly evaluate a suite of algorithms and compare which ones perform well. We then pick the ones that look interesting and then further our analysis. Another challenge is feature selection.\n",
    "\n",
    "1. Feature selection by recursive feature elimination.\n",
    "2. Spot-checking different algorithms."
   ]
  },
  {
   "cell_type": "code",
   "execution_count": 1,
   "metadata": {
    "collapsed": false
   },
   "outputs": [
    {
     "name": "stderr",
     "output_type": "stream",
     "text": [
      "/Library/Python/2.7/site-packages/matplotlib/__init__.py:872: UserWarning: axes.color_cycle is deprecated and replaced with axes.prop_cycle; please use the latter.\n",
      "  warnings.warn(self.msg_depr % (key, alt_key))\n"
     ]
    }
   ],
   "source": [
    "import numpy as np\n",
    "import pandas as pd\n",
    "import urllib\n",
    "import seaborn as sns\n",
    "from __future__ import division\n",
    "%matplotlib inline\n",
    "# url with dataset\n",
    "url = \"http://archive.ics.uci.edu/ml/machine-learning-databases/pima-indians-diabetes/pima-indians-diabetes.data\"\n",
    "# download the file\n",
    "raw_data = urllib.urlopen(url)\n",
    "# load the CSV file as a numpy matrix\n",
    "dataset = np.loadtxt(raw_data, delimiter=\",\")\n",
    "# separate the data from the target attributes\n",
    "X = dataset[:,0:8]\n",
    "y = dataset[:,8]"
   ]
  },
  {
   "cell_type": "code",
   "execution_count": 4,
   "metadata": {
    "collapsed": false
   },
   "outputs": [
    {
     "name": "stdout",
     "output_type": "stream",
     "text": [
      "Random Classifier: 0.65\n",
      "Majority classifer: 0.651041666667\n"
     ]
    },
    {
     "data": {
      "image/png": "[encoded data removed]",
      "text/plain": [
       "<matplotlib.figure.Figure at 0x10fd4b850>"
      ]
     },
     "metadata": {},
     "output_type": "display_data"
    }
   ],
   "source": [
    "from sklearn import metrics\n",
    "sns.distplot(y)\n",
    "print('Random Classifier: {:.2f}'.format(metrics.accuracy_score(y, [0 for ii in y.tolist()])))\n",
    "print 'Majority classifer:', (y.shape[0] - np.sum(y))/y.shape[0]"
   ]
  },
  {
   "cell_type": "markdown",
   "metadata": {},
   "source": [
    "## Data Normalization\n",
    "\n",
    "* Normalization involves replacing nominal features, so that each of them would be in the range from 0 to 1.\n",
    "* Standardization, it involves data pre-processing, after which each feature has an average 0 and 1 dispersion.\n"
   ]
  },
  {
   "cell_type": "code",
   "execution_count": 5,
   "metadata": {
    "collapsed": false
   },
   "outputs": [],
   "source": [
    "from sklearn.preprocessing import StandardScaler\n",
    "from sklearn.preprocessing import Normalizer\n",
    "norm = Normalizer()\n",
    "stand = StandardScaler()\n",
    "normalized_X = norm.fit_transform(X)\n",
    "standardized_X = stand.fit_transform(X)"
   ]
  },
  {
   "cell_type": "markdown",
   "metadata": {},
   "source": [
    "## Test-Train Split"
   ]
  },
  {
   "cell_type": "code",
   "execution_count": 10,
   "metadata": {
    "collapsed": false
   },
   "outputs": [
    {
     "data": {
      "text/plain": [
       "<matplotlib.axes._subplots.AxesSubplot at 0x1102184d0>"
      ]
     },
     "execution_count": 10,
     "metadata": {},
     "output_type": "execute_result"
    },
    {
     "data": {
      "image/png": "[encoded data removed]",
      "text/plain": [
       "<matplotlib.figure.Figure at 0x11001ae50>"
      ]
     },
     "metadata": {},
     "output_type": "display_data"
    }
   ],
   "source": [
    "from sklearn.cross_validation import train_test_split\n",
    "X_train, X_test, y_train, y_test = train_test_split(X, y, test_size=0.33, random_state=42)\n",
    "X_train_st, X_test_st, y_train_st, y_test_st = train_test_split(standardized_X, y, \n",
    "                                                                test_size=0.33, random_state=42)\n",
    "sns.distplot(y_test)"
   ]
  },
  {
   "cell_type": "markdown",
   "metadata": {},
   "source": [
    "As seen above, sklearn's train_test_split preserves the distribution of classes amongst the train and test datasets."
   ]
  },
  {
   "cell_type": "markdown",
   "metadata": {},
   "source": [
    "## Feature Selection\n",
    "\n",
    "* While Future Engineering is quite a creative process and relies more on intuition and expert knowledge, there are plenty of ready-made algorithms for Feature Selection.\n",
    "* Tree algorithms allow to compute the informativeness of features."
   ]
  },
  {
   "cell_type": "code",
   "execution_count": 11,
   "metadata": {
    "collapsed": false
   },
   "outputs": [
    {
     "name": "stdout",
     "output_type": "stream",
     "text": [
      "[ 0.10392783  0.25904764  0.08379105  0.07560493  0.07587352  0.14206857\n",
      "  0.09772928  0.16195719]\n"
     ]
    }
   ],
   "source": [
    "from sklearn import metrics\n",
    "from sklearn.ensemble import ExtraTreesClassifier\n",
    "model = ExtraTreesClassifier()\n",
    "model.fit(X_train, y_train)\n",
    "# display the relative importance of each attribute\n",
    "print(model.feature_importances_)"
   ]
  },
  {
   "cell_type": "markdown",
   "metadata": {},
   "source": [
    "### Feature Selection via Recursive Elimination\n",
    "\n",
    "**Given an external estimator** that assigns weights to features (e.g., the coefficients of a linear model), the goal of recursive feature elimination (RFE) is to **select features by recursively considering smaller and smaller sets of features.** \n",
    "\n",
    "* First, the estimator is trained on the initial set of features and weights are assigned to each one of them. \n",
    "* Then, features whose absolute weights are the smallest are pruned from the current set features. \n",
    "* That procedure is recursively repeated on the pruned set until the desired number of features to select is eventually reached.\n",
    "\n",
    "#### NOTE: \n",
    "\n",
    "* RFE is used to **rank the 'subset of features'** that perform well together for the given estimator/model, **NOT the relative feature importance** unlike methods like Chi-Square and methods of Tree algorithms.\n",
    "\n",
    "* Never do feature selection on training data. \"*… should do feature selection on a different dataset than you train [your predictive model] on … the effect of not doing this is you will overfit your training data.*\"\n"
   ]
  },
  {
   "cell_type": "code",
   "execution_count": 12,
   "metadata": {
    "collapsed": false
   },
   "outputs": [
    {
     "name": "stdout",
     "output_type": "stream",
     "text": [
      "[ True False False False False  True  True False]\n",
      "[1 2 4 5 6 1 1 3]\n"
     ]
    }
   ],
   "source": [
    "from sklearn.feature_selection import RFE\n",
    "from sklearn.linear_model import LogisticRegression\n",
    "from sklearn.svm import SVR\n",
    "model = LogisticRegression()\n",
    "#model = SVR(kernel=\"linear\")\n",
    "# create the RFE model and select 3 attributes\n",
    "rfe = RFE(model, 3)\n",
    "rfe = rfe.fit(X_train, y_train)\n",
    "# summarize the selection of the attributes\n",
    "print(rfe.support_)\n",
    "print(rfe.ranking_)"
   ]
  },
  {
   "cell_type": "markdown",
   "metadata": {},
   "source": [
    "## Naive Bayes\n",
    "\n",
    "Is also one of the most well-known machine learning algorithms, the main task of which is to restore the density of data distribution of the training sample. This method often provides good quality in multiclass classification problems."
   ]
  },
  {
   "cell_type": "code",
   "execution_count": 49,
   "metadata": {
    "collapsed": false
   },
   "outputs": [
    {
     "name": "stdout",
     "output_type": "stream",
     "text": [
      "GaussianNB()\n",
      "             precision    recall  f1-score   support\n",
      "\n",
      "        0.0       0.81      0.79      0.80       168\n",
      "        1.0       0.61      0.63      0.62        86\n",
      "\n",
      "avg / total       0.74      0.74      0.74       254\n",
      "\n",
      "Confusion Matrix: \n",
      "[[133  35]\n",
      " [ 32  54]]\n"
     ]
    }
   ],
   "source": [
    "from sklearn import metrics\n",
    "from sklearn.naive_bayes import GaussianNB\n",
    "model = GaussianNB()\n",
    "model.fit(X_train, y_train)\n",
    "print(model)\n",
    "# make predictions\n",
    "expected = y_test\n",
    "predicted = model.predict(X_test)\n",
    "# summarize the fit of the model\n",
    "print(metrics.classification_report(expected, predicted))\n",
    "print 'Confusion Matrix: \\n',(metrics.confusion_matrix(expected, predicted))\n"
   ]
  },
  {
   "cell_type": "markdown",
   "metadata": {},
   "source": [
    "## Logistic Regression\n",
    "\n",
    "Most often used for solving tasks of classification (binary), but multiclass classification (the so-called one-vs-all method) is also allowed. The advantage of this algorithm is that there’s the probability of belonging to a class for each object at the output."
   ]
  },
  {
   "cell_type": "code",
   "execution_count": 56,
   "metadata": {
    "collapsed": false
   },
   "outputs": [
    {
     "name": "stdout",
     "output_type": "stream",
     "text": [
      "             precision    recall  f1-score   support\n",
      "\n",
      "        0.0       0.81      0.85      0.83       168\n",
      "        1.0       0.67      0.62      0.64        86\n",
      "\n",
      "avg / total       0.76      0.77      0.77       254\n",
      "\n",
      "[[142  26]\n",
      " [ 33  53]]\n"
     ]
    }
   ],
   "source": [
    "from sklearn import metrics\n",
    "from sklearn.linear_model import LogisticRegression\n",
    "model = LogisticRegression()\n",
    "model.fit(X_train, y_train)\n",
    "# make predictions\n",
    "expected = y_test\n",
    "predicted = model.predict(X_test)\n",
    "# summarize the fit of the model\n",
    "print(metrics.classification_report(expected, predicted))\n",
    "print(metrics.confusion_matrix(expected, predicted))\n"
   ]
  },
  {
   "cell_type": "markdown",
   "metadata": {},
   "source": [
    "### Decision Trees\n",
    "\n",
    "Classification and Regression Trees (CART) are often used in problems, in which objects have category features and used for regression and classification problems."
   ]
  },
  {
   "cell_type": "code",
   "execution_count": 57,
   "metadata": {
    "collapsed": false
   },
   "outputs": [
    {
     "name": "stdout",
     "output_type": "stream",
     "text": [
      "             precision    recall  f1-score   support\n",
      "\n",
      "        0.0       0.83      0.71      0.77       168\n",
      "        1.0       0.56      0.72      0.63        86\n",
      "\n",
      "avg / total       0.74      0.72      0.72       254\n",
      "\n",
      "[[120  48]\n",
      " [ 24  62]]\n"
     ]
    }
   ],
   "source": [
    "from sklearn.tree import DecisionTreeClassifier\n",
    "model = DecisionTreeClassifier(max_depth=6)\n",
    "model.fit(X_train, y_train)\n",
    "expected = y_test\n",
    "predicted = model.predict(X_test)\n",
    "# summarize the fit of the model\n",
    "print(metrics.classification_report(expected, predicted))\n",
    "print(metrics.confusion_matrix(expected, predicted))\n"
   ]
  },
  {
   "cell_type": "code",
   "execution_count": 58,
   "metadata": {
    "collapsed": false
   },
   "outputs": [
    {
     "name": "stdout",
     "output_type": "stream",
     "text": [
      "             precision    recall  f1-score   support\n",
      "\n",
      "        0.0       0.81      0.83      0.82       168\n",
      "        1.0       0.65      0.62      0.63        86\n",
      "\n",
      "avg / total       0.75      0.76      0.75       254\n",
      "\n",
      "[[139  29]\n",
      " [ 33  53]]\n"
     ]
    }
   ],
   "source": [
    "from sklearn import metrics\n",
    "from sklearn.svm import SVC\n",
    "# fit a SVM model to the data\n",
    "model = SVC(C=1.0, kernel='linear')\n",
    "model.fit(X_train, y_train)\n",
    "# make predictions\n",
    "expected = y_test\n",
    "predicted = model.predict(X_test)\n",
    "# summarize the fit of the model\n",
    "print(metrics.classification_report(expected, predicted))\n",
    "print(metrics.confusion_matrix(expected, predicted))"
   ]
  },
  {
   "cell_type": "markdown",
   "metadata": {},
   "source": [
    "So far the best accuracy! But now we need to refine the model hyperparameters. For Support Vector Classification there are two hyperparameters: C and gamma. We can evaluate all of this "
   ]
  },
  {
   "cell_type": "code",
   "execution_count": 59,
   "metadata": {
    "collapsed": false
   },
   "outputs": [
    {
     "name": "stdout",
     "output_type": "stream",
     "text": [
      "Fitting 3 folds for each of 5 candidates, totalling 15 fits\n",
      "[CV] C=1.0 ...........................................................\n",
      "[CV] .................................. C=1.0, score=0.645349 -   0.0s\n",
      "[CV] C=1.0 ...........................................................\n",
      "[CV] .................................. C=1.0, score=0.645349 -   0.0s\n",
      "[CV] C=1.0 ...........................................................\n",
      "[CV] .................................. C=1.0, score=0.647059 -   0.0s\n",
      "[CV] C=0.1 ...........................................................\n",
      "[CV] .................................. C=0.1, score=0.645349 -   0.0s\n",
      "[CV] C=0.1 ...........................................................\n",
      "[CV] .................................. C=0.1, score=0.645349 -   0.0s\n",
      "[CV] C=0.1 ...........................................................\n",
      "[CV] .................................. C=0.1, score=0.647059 -   0.0s\n",
      "[CV] C=0.01 ..........................................................\n",
      "[CV] ................................. C=0.01, score=0.645349 -   0.0s\n",
      "[CV] C=0.01 ..........................................................\n",
      "[CV] ................................. C=0.01, score=0.645349 -   0.0s\n",
      "[CV] C=0.01 ..........................................................\n",
      "[CV] ................................. C=0.01, score=0.647059 -   0.0s\n",
      "[CV] C=0.001 .........................................................\n",
      "[CV] ................................ C=0.001, score=0.645349 -   0.0s\n",
      "[CV] C=0.001 .........................................................\n",
      "[CV] ................................ C=0.001, score=0.645349 -   0.0s\n",
      "[CV] C=0.001 .........................................................\n",
      "[CV] ................................ C=0.001, score=0.647059 -   0.0s\n",
      "[CV] C=0.0001 ........................................................\n",
      "[CV] ............................... C=0.0001, score=0.645349 -   0.0s\n",
      "[CV] C=0.0001 ........................................................\n",
      "[CV] ............................... C=0.0001, score=0.645349 -   0.0s\n",
      "[CV] C=0.0001 ........................................................\n",
      "[CV] ............................... C=0.0001, score=0.647059 -   0.0s\n"
     ]
    },
    {
     "name": "stderr",
     "output_type": "stream",
     "text": [
      "[Parallel(n_jobs=1)]: Done  15 out of  15 | elapsed:    0.2s finished\n"
     ]
    },
    {
     "data": {
      "text/plain": [
       "GridSearchCV(cv=3, error_score='raise',\n",
       "       estimator=SVC(C=1.0, cache_size=200, class_weight=None, coef0=0.0,\n",
       "  decision_function_shape=None, degree=3, gamma='auto', kernel='rbf',\n",
       "  max_iter=-1, probability=False, random_state=None, shrinking=True,\n",
       "  tol=0.001, verbose=False),\n",
       "       fit_params={}, iid=True, n_jobs=1,\n",
       "       param_grid={'C': array([  1.00000e+00,   1.00000e-01,   1.00000e-02,   1.00000e-03,\n",
       "         1.00000e-04])},\n",
       "       pre_dispatch='2*n_jobs', refit=True, scoring=None, verbose=3)"
      ]
     },
     "execution_count": 59,
     "metadata": {},
     "output_type": "execute_result"
    }
   ],
   "source": [
    "import numpy as np\n",
    "from sklearn.linear_model import Ridge\n",
    "from sklearn.grid_search import GridSearchCV\n",
    "# prepare a range of alpha values to test\n",
    "C = np.array([1,0.1,0.01,0.001,0.0001])\n",
    "# create and fit a ridge regression model, testing each alpha\n",
    "model = SVC()\n",
    "grid = GridSearchCV(estimator=model, param_grid=dict(C=C), cv=3, verbose=3)\n",
    "grid.fit(X_train, y_train)\n"
   ]
  },
  {
   "cell_type": "code",
   "execution_count": 60,
   "metadata": {
    "collapsed": false
   },
   "outputs": [
    {
     "name": "stdout",
     "output_type": "stream",
     "text": [
      "0.645914396887\n",
      "1.0\n"
     ]
    }
   ],
   "source": [
    "print(grid.best_score_)\n",
    "print(grid.best_estimator_.C)"
   ]
  },
  {
   "cell_type": "markdown",
   "metadata": {},
   "source": [
    "### What's next?\n",
    "\n",
    "In the next post or tutorial, I'll be elaborating more about **ROC Analysis**. An important topic for interviews and for practical machine learning. I also want to do a tutorial on different methods for **Feature Selection** since its something I myself have been looking into currently. "
   ]
  },
  {
   "cell_type": "code",
   "execution_count": null,
   "metadata": {
    "collapsed": true
   },
   "outputs": [],
   "source": []
  }
 ],
 "metadata": {
  "kernelspec": {
   "display_name": "Python 2",
   "language": "python",
   "name": "python2"
  },
  "language_info": {
   "codemirror_mode": {
    "name": "ipython",
    "version": 2
   },
   "file_extension": ".py",
   "mimetype": "text/x-python",
   "name": "python",
   "nbconvert_exporter": "python",
   "pygments_lexer": "ipython2",
   "version": "2.7.6"
  }
 },
 "nbformat": 4,
 "nbformat_minor": 0
}
